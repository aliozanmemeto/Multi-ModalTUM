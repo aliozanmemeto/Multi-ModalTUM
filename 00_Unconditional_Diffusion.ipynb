{
  "nbformat": 4,
  "nbformat_minor": 0,
  "metadata": {
    "colab": {
      "provenance": [],
      "machine_shape": "hm",
      "gpuType": "T4"
    },
    "kernelspec": {
      "name": "python3",
      "display_name": "Python 3"
    },
    "language_info": {
      "name": "python"
    },
    "accelerator": "GPU",
    "widgets": {
      "application/vnd.jupyter.widget-state+json": {
        "1c1f21448699439287136fa3f50b1597": {
          "model_module": "@jupyter-widgets/controls",
          "model_name": "HBoxModel",
          "model_module_version": "1.5.0",
          "state": {
            "_dom_classes": [],
            "_model_module": "@jupyter-widgets/controls",
            "_model_module_version": "1.5.0",
            "_model_name": "HBoxModel",
            "_view_count": null,
            "_view_module": "@jupyter-widgets/controls",
            "_view_module_version": "1.5.0",
            "_view_name": "HBoxView",
            "box_style": "",
            "children": [
              "IPY_MODEL_58a20e65763349ee9806e71fc5c3b9d1",
              "IPY_MODEL_8d748baabc7c4abdbd24448c8b462760",
              "IPY_MODEL_7d223a4df13d49bd9f724d6dd2781fd3"
            ],
            "layout": "IPY_MODEL_2a4ced1a9b134e5aab05e510b7ebccae"
          }
        },
        "58a20e65763349ee9806e71fc5c3b9d1": {
          "model_module": "@jupyter-widgets/controls",
          "model_name": "HTMLModel",
          "model_module_version": "1.5.0",
          "state": {
            "_dom_classes": [],
            "_model_module": "@jupyter-widgets/controls",
            "_model_module_version": "1.5.0",
            "_model_name": "HTMLModel",
            "_view_count": null,
            "_view_module": "@jupyter-widgets/controls",
            "_view_module_version": "1.5.0",
            "_view_name": "HTMLView",
            "description": "",
            "description_tooltip": null,
            "layout": "IPY_MODEL_984d12148af94cee81a62af8dfaf1016",
            "placeholder": "​",
            "style": "IPY_MODEL_660760aae2074f279c71003c7a3f6426",
            "value": "100%"
          }
        },
        "8d748baabc7c4abdbd24448c8b462760": {
          "model_module": "@jupyter-widgets/controls",
          "model_name": "FloatProgressModel",
          "model_module_version": "1.5.0",
          "state": {
            "_dom_classes": [],
            "_model_module": "@jupyter-widgets/controls",
            "_model_module_version": "1.5.0",
            "_model_name": "FloatProgressModel",
            "_view_count": null,
            "_view_module": "@jupyter-widgets/controls",
            "_view_module_version": "1.5.0",
            "_view_name": "ProgressView",
            "bar_style": "success",
            "description": "",
            "description_tooltip": null,
            "layout": "IPY_MODEL_5dd04a3882564a5496afb5d1db664e89",
            "max": 100,
            "min": 0,
            "orientation": "horizontal",
            "style": "IPY_MODEL_6c21ce35e379408684f10511194e0e01",
            "value": 100
          }
        },
        "7d223a4df13d49bd9f724d6dd2781fd3": {
          "model_module": "@jupyter-widgets/controls",
          "model_name": "HTMLModel",
          "model_module_version": "1.5.0",
          "state": {
            "_dom_classes": [],
            "_model_module": "@jupyter-widgets/controls",
            "_model_module_version": "1.5.0",
            "_model_name": "HTMLModel",
            "_view_count": null,
            "_view_module": "@jupyter-widgets/controls",
            "_view_module_version": "1.5.0",
            "_view_name": "HTMLView",
            "description": "",
            "description_tooltip": null,
            "layout": "IPY_MODEL_1d13779238684a2a930db950c0d2900c",
            "placeholder": "​",
            "style": "IPY_MODEL_712fc1a431d64c0db08cf2ec93af495b",
            "value": " 100/100 [1:12:05&lt;00:00, 43.87s/it]"
          }
        },
        "2a4ced1a9b134e5aab05e510b7ebccae": {
          "model_module": "@jupyter-widgets/base",
          "model_name": "LayoutModel",
          "model_module_version": "1.2.0",
          "state": {
            "_model_module": "@jupyter-widgets/base",
            "_model_module_version": "1.2.0",
            "_model_name": "LayoutModel",
            "_view_count": null,
            "_view_module": "@jupyter-widgets/base",
            "_view_module_version": "1.2.0",
            "_view_name": "LayoutView",
            "align_content": null,
            "align_items": null,
            "align_self": null,
            "border": null,
            "bottom": null,
            "display": null,
            "flex": null,
            "flex_flow": null,
            "grid_area": null,
            "grid_auto_columns": null,
            "grid_auto_flow": null,
            "grid_auto_rows": null,
            "grid_column": null,
            "grid_gap": null,
            "grid_row": null,
            "grid_template_areas": null,
            "grid_template_columns": null,
            "grid_template_rows": null,
            "height": null,
            "justify_content": null,
            "justify_items": null,
            "left": null,
            "margin": null,
            "max_height": null,
            "max_width": null,
            "min_height": null,
            "min_width": null,
            "object_fit": null,
            "object_position": null,
            "order": null,
            "overflow": null,
            "overflow_x": null,
            "overflow_y": null,
            "padding": null,
            "right": null,
            "top": null,
            "visibility": null,
            "width": null
          }
        },
        "984d12148af94cee81a62af8dfaf1016": {
          "model_module": "@jupyter-widgets/base",
          "model_name": "LayoutModel",
          "model_module_version": "1.2.0",
          "state": {
            "_model_module": "@jupyter-widgets/base",
            "_model_module_version": "1.2.0",
            "_model_name": "LayoutModel",
            "_view_count": null,
            "_view_module": "@jupyter-widgets/base",
            "_view_module_version": "1.2.0",
            "_view_name": "LayoutView",
            "align_content": null,
            "align_items": null,
            "align_self": null,
            "border": null,
            "bottom": null,
            "display": null,
            "flex": null,
            "flex_flow": null,
            "grid_area": null,
            "grid_auto_columns": null,
            "grid_auto_flow": null,
            "grid_auto_rows": null,
            "grid_column": null,
            "grid_gap": null,
            "grid_row": null,
            "grid_template_areas": null,
            "grid_template_columns": null,
            "grid_template_rows": null,
            "height": null,
            "justify_content": null,
            "justify_items": null,
            "left": null,
            "margin": null,
            "max_height": null,
            "max_width": null,
            "min_height": null,
            "min_width": null,
            "object_fit": null,
            "object_position": null,
            "order": null,
            "overflow": null,
            "overflow_x": null,
            "overflow_y": null,
            "padding": null,
            "right": null,
            "top": null,
            "visibility": null,
            "width": null
          }
        },
        "660760aae2074f279c71003c7a3f6426": {
          "model_module": "@jupyter-widgets/controls",
          "model_name": "DescriptionStyleModel",
          "model_module_version": "1.5.0",
          "state": {
            "_model_module": "@jupyter-widgets/controls",
            "_model_module_version": "1.5.0",
            "_model_name": "DescriptionStyleModel",
            "_view_count": null,
            "_view_module": "@jupyter-widgets/base",
            "_view_module_version": "1.2.0",
            "_view_name": "StyleView",
            "description_width": ""
          }
        },
        "5dd04a3882564a5496afb5d1db664e89": {
          "model_module": "@jupyter-widgets/base",
          "model_name": "LayoutModel",
          "model_module_version": "1.2.0",
          "state": {
            "_model_module": "@jupyter-widgets/base",
            "_model_module_version": "1.2.0",
            "_model_name": "LayoutModel",
            "_view_count": null,
            "_view_module": "@jupyter-widgets/base",
            "_view_module_version": "1.2.0",
            "_view_name": "LayoutView",
            "align_content": null,
            "align_items": null,
            "align_self": null,
            "border": null,
            "bottom": null,
            "display": null,
            "flex": null,
            "flex_flow": null,
            "grid_area": null,
            "grid_auto_columns": null,
            "grid_auto_flow": null,
            "grid_auto_rows": null,
            "grid_column": null,
            "grid_gap": null,
            "grid_row": null,
            "grid_template_areas": null,
            "grid_template_columns": null,
            "grid_template_rows": null,
            "height": null,
            "justify_content": null,
            "justify_items": null,
            "left": null,
            "margin": null,
            "max_height": null,
            "max_width": null,
            "min_height": null,
            "min_width": null,
            "object_fit": null,
            "object_position": null,
            "order": null,
            "overflow": null,
            "overflow_x": null,
            "overflow_y": null,
            "padding": null,
            "right": null,
            "top": null,
            "visibility": null,
            "width": null
          }
        },
        "6c21ce35e379408684f10511194e0e01": {
          "model_module": "@jupyter-widgets/controls",
          "model_name": "ProgressStyleModel",
          "model_module_version": "1.5.0",
          "state": {
            "_model_module": "@jupyter-widgets/controls",
            "_model_module_version": "1.5.0",
            "_model_name": "ProgressStyleModel",
            "_view_count": null,
            "_view_module": "@jupyter-widgets/base",
            "_view_module_version": "1.2.0",
            "_view_name": "StyleView",
            "bar_color": null,
            "description_width": ""
          }
        },
        "1d13779238684a2a930db950c0d2900c": {
          "model_module": "@jupyter-widgets/base",
          "model_name": "LayoutModel",
          "model_module_version": "1.2.0",
          "state": {
            "_model_module": "@jupyter-widgets/base",
            "_model_module_version": "1.2.0",
            "_model_name": "LayoutModel",
            "_view_count": null,
            "_view_module": "@jupyter-widgets/base",
            "_view_module_version": "1.2.0",
            "_view_name": "LayoutView",
            "align_content": null,
            "align_items": null,
            "align_self": null,
            "border": null,
            "bottom": null,
            "display": null,
            "flex": null,
            "flex_flow": null,
            "grid_area": null,
            "grid_auto_columns": null,
            "grid_auto_flow": null,
            "grid_auto_rows": null,
            "grid_column": null,
            "grid_gap": null,
            "grid_row": null,
            "grid_template_areas": null,
            "grid_template_columns": null,
            "grid_template_rows": null,
            "height": null,
            "justify_content": null,
            "justify_items": null,
            "left": null,
            "margin": null,
            "max_height": null,
            "max_width": null,
            "min_height": null,
            "min_width": null,
            "object_fit": null,
            "object_position": null,
            "order": null,
            "overflow": null,
            "overflow_x": null,
            "overflow_y": null,
            "padding": null,
            "right": null,
            "top": null,
            "visibility": null,
            "width": null
          }
        },
        "712fc1a431d64c0db08cf2ec93af495b": {
          "model_module": "@jupyter-widgets/controls",
          "model_name": "DescriptionStyleModel",
          "model_module_version": "1.5.0",
          "state": {
            "_model_module": "@jupyter-widgets/controls",
            "_model_module_version": "1.5.0",
            "_model_name": "DescriptionStyleModel",
            "_view_count": null,
            "_view_module": "@jupyter-widgets/base",
            "_view_module_version": "1.2.0",
            "_view_name": "StyleView",
            "description_width": ""
          }
        },
        "f262c653b47d4035bea2e43cc9ac6b75": {
          "model_module": "@jupyter-widgets/controls",
          "model_name": "HBoxModel",
          "model_module_version": "1.5.0",
          "state": {
            "_dom_classes": [],
            "_model_module": "@jupyter-widgets/controls",
            "_model_module_version": "1.5.0",
            "_model_name": "HBoxModel",
            "_view_count": null,
            "_view_module": "@jupyter-widgets/controls",
            "_view_module_version": "1.5.0",
            "_view_name": "HBoxView",
            "box_style": "",
            "children": [
              "IPY_MODEL_386a8eb5bdf94656ad4dc7a1b231a080",
              "IPY_MODEL_0014f60f3eda44a7951e8611ffd7c20e",
              "IPY_MODEL_ea05f28070d447ec853b5e948b4d2144"
            ],
            "layout": "IPY_MODEL_e6aa176552274f18b252caa5f04719b3"
          }
        },
        "386a8eb5bdf94656ad4dc7a1b231a080": {
          "model_module": "@jupyter-widgets/controls",
          "model_name": "HTMLModel",
          "model_module_version": "1.5.0",
          "state": {
            "_dom_classes": [],
            "_model_module": "@jupyter-widgets/controls",
            "_model_module_version": "1.5.0",
            "_model_name": "HTMLModel",
            "_view_count": null,
            "_view_module": "@jupyter-widgets/controls",
            "_view_module_version": "1.5.0",
            "_view_name": "HTMLView",
            "description": "",
            "description_tooltip": null,
            "layout": "IPY_MODEL_7499c9f79daa4334b7a7991c3f78f38e",
            "placeholder": "​",
            "style": "IPY_MODEL_4b9a1fbe87a2412eb6d3b9c61403d6b4",
            "value": ""
          }
        },
        "0014f60f3eda44a7951e8611ffd7c20e": {
          "model_module": "@jupyter-widgets/controls",
          "model_name": "FloatProgressModel",
          "model_module_version": "1.5.0",
          "state": {
            "_dom_classes": [],
            "_model_module": "@jupyter-widgets/controls",
            "_model_module_version": "1.5.0",
            "_model_name": "FloatProgressModel",
            "_view_count": null,
            "_view_module": "@jupyter-widgets/controls",
            "_view_module_version": "1.5.0",
            "_view_name": "ProgressView",
            "bar_style": "success",
            "description": "",
            "description_tooltip": null,
            "layout": "IPY_MODEL_a8861aeb308a4c209732ee82abbf4597",
            "max": 1,
            "min": 0,
            "orientation": "horizontal",
            "style": "IPY_MODEL_0ba2afdb799e4020a962655ce4581152",
            "value": 1
          }
        },
        "ea05f28070d447ec853b5e948b4d2144": {
          "model_module": "@jupyter-widgets/controls",
          "model_name": "HTMLModel",
          "model_module_version": "1.5.0",
          "state": {
            "_dom_classes": [],
            "_model_module": "@jupyter-widgets/controls",
            "_model_module_version": "1.5.0",
            "_model_name": "HTMLModel",
            "_view_count": null,
            "_view_module": "@jupyter-widgets/controls",
            "_view_module_version": "1.5.0",
            "_view_name": "HTMLView",
            "description": "",
            "description_tooltip": null,
            "layout": "IPY_MODEL_b3ca5db058e240cb9a82272a26ae6991",
            "placeholder": "​",
            "style": "IPY_MODEL_f2bcff0aa801460eabc5023aa80031e7",
            "value": " 1000/? [00:29&lt;00:00, 30.54it/s]"
          }
        },
        "e6aa176552274f18b252caa5f04719b3": {
          "model_module": "@jupyter-widgets/base",
          "model_name": "LayoutModel",
          "model_module_version": "1.2.0",
          "state": {
            "_model_module": "@jupyter-widgets/base",
            "_model_module_version": "1.2.0",
            "_model_name": "LayoutModel",
            "_view_count": null,
            "_view_module": "@jupyter-widgets/base",
            "_view_module_version": "1.2.0",
            "_view_name": "LayoutView",
            "align_content": null,
            "align_items": null,
            "align_self": null,
            "border": null,
            "bottom": null,
            "display": null,
            "flex": null,
            "flex_flow": null,
            "grid_area": null,
            "grid_auto_columns": null,
            "grid_auto_flow": null,
            "grid_auto_rows": null,
            "grid_column": null,
            "grid_gap": null,
            "grid_row": null,
            "grid_template_areas": null,
            "grid_template_columns": null,
            "grid_template_rows": null,
            "height": null,
            "justify_content": null,
            "justify_items": null,
            "left": null,
            "margin": null,
            "max_height": null,
            "max_width": null,
            "min_height": null,
            "min_width": null,
            "object_fit": null,
            "object_position": null,
            "order": null,
            "overflow": null,
            "overflow_x": null,
            "overflow_y": null,
            "padding": null,
            "right": null,
            "top": null,
            "visibility": null,
            "width": null
          }
        },
        "7499c9f79daa4334b7a7991c3f78f38e": {
          "model_module": "@jupyter-widgets/base",
          "model_name": "LayoutModel",
          "model_module_version": "1.2.0",
          "state": {
            "_model_module": "@jupyter-widgets/base",
            "_model_module_version": "1.2.0",
            "_model_name": "LayoutModel",
            "_view_count": null,
            "_view_module": "@jupyter-widgets/base",
            "_view_module_version": "1.2.0",
            "_view_name": "LayoutView",
            "align_content": null,
            "align_items": null,
            "align_self": null,
            "border": null,
            "bottom": null,
            "display": null,
            "flex": null,
            "flex_flow": null,
            "grid_area": null,
            "grid_auto_columns": null,
            "grid_auto_flow": null,
            "grid_auto_rows": null,
            "grid_column": null,
            "grid_gap": null,
            "grid_row": null,
            "grid_template_areas": null,
            "grid_template_columns": null,
            "grid_template_rows": null,
            "height": null,
            "justify_content": null,
            "justify_items": null,
            "left": null,
            "margin": null,
            "max_height": null,
            "max_width": null,
            "min_height": null,
            "min_width": null,
            "object_fit": null,
            "object_position": null,
            "order": null,
            "overflow": null,
            "overflow_x": null,
            "overflow_y": null,
            "padding": null,
            "right": null,
            "top": null,
            "visibility": null,
            "width": null
          }
        },
        "4b9a1fbe87a2412eb6d3b9c61403d6b4": {
          "model_module": "@jupyter-widgets/controls",
          "model_name": "DescriptionStyleModel",
          "model_module_version": "1.5.0",
          "state": {
            "_model_module": "@jupyter-widgets/controls",
            "_model_module_version": "1.5.0",
            "_model_name": "DescriptionStyleModel",
            "_view_count": null,
            "_view_module": "@jupyter-widgets/base",
            "_view_module_version": "1.2.0",
            "_view_name": "StyleView",
            "description_width": ""
          }
        },
        "a8861aeb308a4c209732ee82abbf4597": {
          "model_module": "@jupyter-widgets/base",
          "model_name": "LayoutModel",
          "model_module_version": "1.2.0",
          "state": {
            "_model_module": "@jupyter-widgets/base",
            "_model_module_version": "1.2.0",
            "_model_name": "LayoutModel",
            "_view_count": null,
            "_view_module": "@jupyter-widgets/base",
            "_view_module_version": "1.2.0",
            "_view_name": "LayoutView",
            "align_content": null,
            "align_items": null,
            "align_self": null,
            "border": null,
            "bottom": null,
            "display": null,
            "flex": null,
            "flex_flow": null,
            "grid_area": null,
            "grid_auto_columns": null,
            "grid_auto_flow": null,
            "grid_auto_rows": null,
            "grid_column": null,
            "grid_gap": null,
            "grid_row": null,
            "grid_template_areas": null,
            "grid_template_columns": null,
            "grid_template_rows": null,
            "height": null,
            "justify_content": null,
            "justify_items": null,
            "left": null,
            "margin": null,
            "max_height": null,
            "max_width": null,
            "min_height": null,
            "min_width": null,
            "object_fit": null,
            "object_position": null,
            "order": null,
            "overflow": null,
            "overflow_x": null,
            "overflow_y": null,
            "padding": null,
            "right": null,
            "top": null,
            "visibility": null,
            "width": "20px"
          }
        },
        "0ba2afdb799e4020a962655ce4581152": {
          "model_module": "@jupyter-widgets/controls",
          "model_name": "ProgressStyleModel",
          "model_module_version": "1.5.0",
          "state": {
            "_model_module": "@jupyter-widgets/controls",
            "_model_module_version": "1.5.0",
            "_model_name": "ProgressStyleModel",
            "_view_count": null,
            "_view_module": "@jupyter-widgets/base",
            "_view_module_version": "1.2.0",
            "_view_name": "StyleView",
            "bar_color": null,
            "description_width": ""
          }
        },
        "b3ca5db058e240cb9a82272a26ae6991": {
          "model_module": "@jupyter-widgets/base",
          "model_name": "LayoutModel",
          "model_module_version": "1.2.0",
          "state": {
            "_model_module": "@jupyter-widgets/base",
            "_model_module_version": "1.2.0",
            "_model_name": "LayoutModel",
            "_view_count": null,
            "_view_module": "@jupyter-widgets/base",
            "_view_module_version": "1.2.0",
            "_view_name": "LayoutView",
            "align_content": null,
            "align_items": null,
            "align_self": null,
            "border": null,
            "bottom": null,
            "display": null,
            "flex": null,
            "flex_flow": null,
            "grid_area": null,
            "grid_auto_columns": null,
            "grid_auto_flow": null,
            "grid_auto_rows": null,
            "grid_column": null,
            "grid_gap": null,
            "grid_row": null,
            "grid_template_areas": null,
            "grid_template_columns": null,
            "grid_template_rows": null,
            "height": null,
            "justify_content": null,
            "justify_items": null,
            "left": null,
            "margin": null,
            "max_height": null,
            "max_width": null,
            "min_height": null,
            "min_width": null,
            "object_fit": null,
            "object_position": null,
            "order": null,
            "overflow": null,
            "overflow_x": null,
            "overflow_y": null,
            "padding": null,
            "right": null,
            "top": null,
            "visibility": null,
            "width": null
          }
        },
        "f2bcff0aa801460eabc5023aa80031e7": {
          "model_module": "@jupyter-widgets/controls",
          "model_name": "DescriptionStyleModel",
          "model_module_version": "1.5.0",
          "state": {
            "_model_module": "@jupyter-widgets/controls",
            "_model_module_version": "1.5.0",
            "_model_name": "DescriptionStyleModel",
            "_view_count": null,
            "_view_module": "@jupyter-widgets/base",
            "_view_module_version": "1.2.0",
            "_view_name": "StyleView",
            "description_width": ""
          }
        }
      }
    }
  },
  "cells": [
    {
      "cell_type": "markdown",
      "source": [
        "# Notebook 0: Unconditional Variational Diffusion Models\n",
        "\n",
        "In this notebook, we will implement a variational diffusion model from scratch to generate MNIST digits. This will give you important context for the lecture, as it will allow you to connect the mathematical concepts with code. This notebook has only one external dependency and can be run on a CPU Colab instance, but it will be **much** faster it you run it on a GPU instance. To activate a free GPU instance, go to `Runtime`$\\to$ `Change Runtime Type` and select a GPU runtime.\n",
        "\n",
        "We will first install the only dependency, `deepinv`, which we will only use to get access to a premade model architecture (the famed [UNet](https://arxiv.org/abs/1505.04597)). We will mention this architecture in the lecture. If you have time, you could try implementing the UNet from scratch, or you can just look at the code [here](https://github.com/deepinv/deepinv/blob/main/deepinv/models/unet.py).\n",
        "\n",
        "Note: This tutorial is based on [this repository](https://github.com/ytdeepia/DDPM/tree/main), re-used under the terms of the MIT License."
      ],
      "metadata": {
        "id": "4AkBhE-kb7Xn"
      }
    },
    {
      "cell_type": "code",
      "execution_count": 1,
      "metadata": {
        "id": "LqbTmu-pbwZK"
      },
      "outputs": [],
      "source": [
        "%%capture\n",
        "!pip install deepinv"
      ]
    },
    {
      "cell_type": "markdown",
      "source": [
        "**IMPORTANT**: Please make sure to restart your session (`Runtime` $\\to$ `Restart Session`) before proceeding."
      ],
      "metadata": {
        "id": "UNkIk4Ufi50l"
      }
    },
    {
      "cell_type": "markdown",
      "source": [
        "We require a bit of PyTorch boilerplate to get started, and we will import the model architecture that is used below."
      ],
      "metadata": {
        "id": "DLMmcDQ6joiI"
      }
    },
    {
      "cell_type": "code",
      "source": [
        "import torch\n",
        "import deepinv\n",
        "from torchvision import datasets, transforms\n",
        "import matplotlib.pyplot as plt\n",
        "import seaborn as sns\n",
        "sns.set()\n",
        "from tqdm.notebook import trange\n",
        "from pathlib import Path\n",
        "import os\n",
        "from tqdm.notebook import tqdm\n",
        "\n",
        "device = torch.device(\"cuda\") if torch.cuda.is_available() else torch.device(\"cpu\")\n",
        "print(f\"Using device: {device}\")\n",
        "BS = 1024 #batch size, decrease if you are hitting memory limits\n",
        "IS = 32 #image size (square)\n",
        "LR = 1e-4 #learning rate\n",
        "NUM_EPOCHS = 100"
      ],
      "metadata": {
        "colab": {
          "base_uri": "https://localhost:8080/"
        },
        "id": "UKPlpddVi47s",
        "outputId": "2e66b02d-860c-4fc3-c08b-993022d41504"
      },
      "execution_count": 1,
      "outputs": [
        {
          "output_type": "stream",
          "name": "stdout",
          "text": [
            "Using device: cuda\n"
          ]
        }
      ]
    },
    {
      "cell_type": "markdown",
      "source": [
        "Next, we will establish a pipeline to load MNIST digits, resize them to $32 \\times 32$ and normalise them to $[0,1]$."
      ],
      "metadata": {
        "id": "Eo9jnDMqkOZp"
      }
    },
    {
      "cell_type": "code",
      "source": [
        "transform = transforms.Compose(\n",
        "    [\n",
        "        transforms.Resize(IS),\n",
        "        transforms.ToTensor(),\n",
        "        transforms.Normalize((0.0,), (1.0,)),\n",
        "    ]\n",
        ")\n",
        "\n",
        "train_loader = torch.utils.data.DataLoader(\n",
        "    datasets.MNIST(root=\"./data\", train=True, download=True, transform=transform),\n",
        "    batch_size=BS,\n",
        "    shuffle=True,\n",
        ")"
      ],
      "metadata": {
        "colab": {
          "base_uri": "https://localhost:8080/"
        },
        "id": "DZQyNDFCit20",
        "outputId": "565cf94a-dfdd-41cb-c7ca-da15362f394e"
      },
      "execution_count": 2,
      "outputs": [
        {
          "output_type": "stream",
          "name": "stderr",
          "text": [
            "100%|██████████| 9.91M/9.91M [00:00<00:00, 36.6MB/s]\n",
            "100%|██████████| 28.9k/28.9k [00:00<00:00, 1.02MB/s]\n",
            "100%|██████████| 1.65M/1.65M [00:00<00:00, 9.46MB/s]\n",
            "100%|██████████| 4.54k/4.54k [00:00<00:00, 8.54MB/s]\n"
          ]
        }
      ]
    },
    {
      "cell_type": "markdown",
      "source": [
        "We will learn exactly how diffusion models work in the lecture. For now, it is enough to gain the following intuition:\n",
        "- To train a diffusion model, we add noise to an image until it is no longer recognisable as an image\n",
        "- We then train a model to *undo* that noise addition. This *denoising* problem is cast as a regression task in image space: Given the noisy image, predict the noise that needs to be subtracted to get a clean image.\n",
        "\n",
        "First, we will instantiate the model architecture that is used to denoise the images. In the lecture, we will learn that the UNet's job is to **predict the random noise** that is added to the image. Essentially, the UNet performs a simple noise regression task: We input a noisy image and the UNet learns to separate the noise from the input and predict just the noise. For this, we use the Mean Squared Error (MSE) loss between the true added noise and the predicted added noise."
      ],
      "metadata": {
        "id": "BRFr8coukgIM"
      }
    },
    {
      "cell_type": "code",
      "source": [
        "model = deepinv.models.DiffUNet(in_channels=1, out_channels=1, pretrained=None).to(\n",
        "    device\n",
        ")\n",
        "optim = torch.optim.Adam(model.parameters(), lr=LR)\n",
        "criterion = deepinv.loss.MSE(reduction=\"mean\")"
      ],
      "metadata": {
        "id": "83WetL4BkekD"
      },
      "execution_count": 8,
      "outputs": []
    },
    {
      "cell_type": "markdown",
      "source": [
        "This gives us the first important component of a diffusion pipeline: **The UNet.**\n",
        "\n",
        "Next, we need another important component, the **noise scheduler**. You can think of this as a sequence of noise scales that we add to the input images so that the UNet learns to deal with various levels of random noise.\n",
        "\n",
        "There are various types of noise schedulers, but we will use the simplest one: A linearly spaced noise schedule. It is important to understand that, although the noise increases step by step, we need to be careful that the total added noise does not explode, so we will make sure that the total noise variance tends towards 1 as we approach the end of training. This will be explained in the lecture.\n",
        "\n",
        "Note the distinction between the noise schedule (which is linear) and the resulting actual noise variance, which increases like a square root.\n",
        "\n",
        "There are other noise schedulers (e.g., cosine), which you can experiment with in your own time by changing the `betas` variable below."
      ],
      "metadata": {
        "id": "hoS-ct_mk-mP"
      }
    },
    {
      "cell_type": "code",
      "source": [
        "BETA_START = 1e-4\n",
        "BETA_END = 0.02\n",
        "TIMESTEPS = 1000\n",
        "\n",
        "betas = torch.linspace(BETA_START, BETA_END, TIMESTEPS, device=device)\n",
        "alphas = 1.0 - betas\n",
        "alphas_cumprod = torch.cumprod(alphas, dim=0)\n",
        "sqrt_alphas_cumprod = torch.sqrt(alphas_cumprod)\n",
        "sqrt_one_minus_alphas_cumprod = torch.sqrt(1.0 - alphas_cumprod)\n",
        "plt.plot(range(TIMESTEPS), sqrt_one_minus_alphas_cumprod.detach().cpu().numpy())\n",
        "plt.xlabel(\"Timesteps\")\n",
        "plt.ylabel(\"Total noise variance\")"
      ],
      "metadata": {
        "colab": {
          "base_uri": "https://localhost:8080/",
          "height": 475
        },
        "id": "MpHx-4enl1Co",
        "outputId": "8525b478-e1f8-4713-eb96-b7f6dc4ea0e5"
      },
      "execution_count": 10,
      "outputs": [
        {
          "output_type": "execute_result",
          "data": {
            "text/plain": [
              "Text(0, 0.5, 'Total noise variance')"
            ]
          },
          "metadata": {},
          "execution_count": 10
        },
        {
          "output_type": "display_data",
          "data": {
            "text/plain": [
              "<Figure size 640x480 with 1 Axes>"
            ],
            "image/png": "[encoded data removed]"
          },
          "metadata": {}
        }
      ]
    },
    {
      "cell_type": "markdown",
      "source": [
        "As you can see, the noise increases linearly over time, but never becomes too large to avoid a variance explosion. In our lecture (and in the literature), the noise variance term is typically named $(1-\\bar \\alpha_t)$.\n",
        "\n",
        "With this under our belts, we can now train the model. We have commented the steps below for you, and you will see the math in the lecture, but this is mostly just a regular PyTorch training loop.\n",
        "\n",
        "Training this model takes quite long (around 1h on an A100 GPU), so we also provide an option to load a checkpoint."
      ],
      "metadata": {
        "id": "jMuKlpV8mWmj"
      }
    },
    {
      "cell_type": "code",
      "source": [
        "for epoch in trange(NUM_EPOCHS):\n",
        "    model.train()\n",
        "    for data, _ in train_loader:\n",
        "        imgs = data.to(device)\n",
        "        noise = torch.randn_like(imgs)\n",
        "        t = torch.randint(0, TIMESTEPS, (imgs.size(0),), device=device)\n",
        "\n",
        "        noised_imgs = (\n",
        "            sqrt_alphas_cumprod[t, None, None, None] * imgs\n",
        "            + sqrt_one_minus_alphas_cumprod[t, None, None, None] * noise\n",
        "        ) #we will explain this term in the lecture, but think \"noised image\"\n",
        "        # The model predicts the noise.\n",
        "        # We will explain the importance of passing the time-step to the model in the lecture\n",
        "        estimated_noise = model(noised_imgs, t, type_t=\"timestep\")\n",
        "        # Regression: We compare the noise prediction to the actual noise.\n",
        "        loss = criterion(estimated_noise, noise)\n",
        "        loss.backward()\n",
        "        optim.step()\n",
        "        optim.zero_grad(True)\n",
        "\n",
        "torch.save(\n",
        "   model.state_dict(),\n",
        "   \"trained_diffusion_model_large.pth\",\n",
        ")"
      ],
      "metadata": {
        "colab": {
          "base_uri": "https://localhost:8080/",
          "height": 49,
          "referenced_widgets": [
            "1c1f21448699439287136fa3f50b1597",
            "58a20e65763349ee9806e71fc5c3b9d1",
            "8d748baabc7c4abdbd24448c8b462760",
            "7d223a4df13d49bd9f724d6dd2781fd3",
            "2a4ced1a9b134e5aab05e510b7ebccae",
            "984d12148af94cee81a62af8dfaf1016",
            "660760aae2074f279c71003c7a3f6426",
            "5dd04a3882564a5496afb5d1db664e89",
            "6c21ce35e379408684f10511194e0e01",
            "1d13779238684a2a930db950c0d2900c",
            "712fc1a431d64c0db08cf2ec93af495b"
          ]
        },
        "id": "vRqhuI4_k4VA",
        "outputId": "6ca5400c-2f82-40ee-8d54-f00c40ce3b1e"
      },
      "execution_count": 10,
      "outputs": [
        {
          "data": {
            "application/vnd.jupyter.widget-view+json": {
              "model_id": "1c1f21448699439287136fa3f50b1597",
              "version_major": 2,
              "version_minor": 0
            },
            "text/plain": [
              "  0%|          | 0/100 [00:00<?, ?it/s]"
            ]
          },
          "metadata": {},
          "output_type": "display_data"
        }
      ]
    },
    {
      "cell_type": "code",
      "source": [
        "checkpoint_path = \"/content/trained_diffusion_model_large.pth\"\n",
        "model = deepinv.models.DiffUNet(in_channels=1, out_channels=1, pretrained=Path(checkpoint_path))\n",
        "\n",
        "if os.path.exists(checkpoint_path):\n",
        "    checkpoint = torch.load(checkpoint_path, map_location=\"cpu\")\n",
        "    model.load_state_dict(checkpoint)\n",
        "    print(f\"Loaded model from {checkpoint_path}\")\n",
        "else:\n",
        "    raise FileNotFoundError(f\"Checkpoint file not found: {checkpoint_path}\")\n",
        "\n",
        "model.to(device)\n",
        "model.eval()\n",
        "os.makedirs(\"./img/mnist_samples\", exist_ok=True)"
      ],
      "metadata": {
        "colab": {
          "base_uri": "https://localhost:8080/"
        },
        "id": "CMcUFS9S25pE",
        "outputId": "244e599f-b16e-4a2e-e4ac-fab240fb7e3c"
      },
      "execution_count": 17,
      "outputs": [
        {
          "output_type": "stream",
          "name": "stdout",
          "text": [
            "Loaded model from /content/trained_diffusion_model_large.pth\n"
          ]
        }
      ]
    },
    {
      "cell_type": "markdown",
      "source": [
        "We can now use our trained diffusion model to generate fresh MNIST images."
      ],
      "metadata": {
        "id": "ArqM7cBv3fuv"
      }
    },
    {
      "cell_type": "code",
      "source": [
        "def sample_ddpm(model, image_size=32, batch_size=4, channels=1):\n",
        "    # Start from pure noise\n",
        "    x = torch.randn(batch_size, channels, image_size, image_size).to(device)\n",
        "\n",
        "    for t in tqdm(reversed(range(TIMESTEPS))):\n",
        "        # The model is parameterised by the time step\n",
        "        t_batch = torch.full((batch_size,), t, dtype=torch.long).to(device)\n",
        "        with torch.no_grad():\n",
        "            # Predict noise\n",
        "            noise_pred = model(x, t_batch, type_t=\"timestep\")\n",
        "            # Sample from posterior, this will be discussed in the lecture\n",
        "            alpha_t = alphas[t]\n",
        "            alpha_cumprod_t = alphas_cumprod[t]\n",
        "            if t > 0:\n",
        "                noise = torch.randn_like(x)\n",
        "            else:\n",
        "                noise = torch.zeros_like(x)\n",
        "            # Equation for x_{t-1} given x_t and predicted noise\n",
        "            coef1 = 1.0 / torch.sqrt(alpha_t)\n",
        "            coef2 = (1.0 - alpha_t) / torch.sqrt(1.0 - alpha_cumprod_t)\n",
        "            x = coef1 * (x - coef2 * noise_pred) + torch.sqrt(betas[t]) * noise\n",
        "\n",
        "            # Save the intermediate sample at this timestep\n",
        "            if t % 10 == 0:\n",
        "                idx = 0\n",
        "                for b in range(batch_size):\n",
        "                    img = x[b, 0].cpu().detach().numpy()\n",
        "\n",
        "                    img = (img - img.min()) / (\n",
        "                        img.max() - img.min() + 1e-8\n",
        "                    )\n",
        "                    plt.imsave(\n",
        "                        f\"./img/mnist_samples/sample_{idx+b}_{t}.png\", img, cmap=\"gray\"\n",
        "                    )\n",
        "\n",
        "    x = torch.clamp(x, 0, 1)\n",
        "    return x\n",
        "\n",
        "def plot_tensor_grid(tensor):\n",
        "    \"\"\"\n",
        "    Plots a PyTorch tensor of shape (8, 1, 32, 32) as a 2x4 grid of images.\n",
        "\n",
        "    Args:\n",
        "        tensor (torch.Tensor): The tensor to plot.\n",
        "    \"\"\"\n",
        "    tensor = tensor.detach().cpu()  # Detach and move to CPU\n",
        "    fig, axes = plt.subplots(2, 4, figsize=(10, 5))\n",
        "    axes = axes.flatten()\n",
        "    for idx in range(8):\n",
        "        img = tensor[idx, 0].numpy()\n",
        "        axes[idx].imshow(img, cmap='gray')\n",
        "        axes[idx].axis('off')\n",
        "    plt.tight_layout()\n",
        "    plt.show()"
      ],
      "metadata": {
        "id": "RZyZJjcRj7_X"
      },
      "execution_count": 18,
      "outputs": []
    },
    {
      "cell_type": "code",
      "source": [
        "num_samples = 8\n",
        "batch_size = 8\n",
        "samples_list = []\n",
        "\n",
        "for i in range(num_samples // batch_size):\n",
        "    batch_samples = sample_ddpm(model, batch_size=batch_size)\n",
        "    samples_list.append(batch_samples)"
      ],
      "metadata": {
        "colab": {
          "base_uri": "https://localhost:8080/",
          "height": 49,
          "referenced_widgets": [
            "f262c653b47d4035bea2e43cc9ac6b75",
            "386a8eb5bdf94656ad4dc7a1b231a080",
            "0014f60f3eda44a7951e8611ffd7c20e",
            "ea05f28070d447ec853b5e948b4d2144",
            "e6aa176552274f18b252caa5f04719b3",
            "7499c9f79daa4334b7a7991c3f78f38e",
            "4b9a1fbe87a2412eb6d3b9c61403d6b4",
            "a8861aeb308a4c209732ee82abbf4597",
            "0ba2afdb799e4020a962655ce4581152",
            "b3ca5db058e240cb9a82272a26ae6991",
            "f2bcff0aa801460eabc5023aa80031e7"
          ]
        },
        "id": "lcn0KE3a96jJ",
        "outputId": "01d4d9db-ea28-44af-85f1-787f0b50a311"
      },
      "execution_count": 19,
      "outputs": [
        {
          "output_type": "display_data",
          "data": {
            "text/plain": [
              "0it [00:00, ?it/s]"
            ],
            "application/vnd.jupyter.widget-view+json": {
              "version_major": 2,
              "version_minor": 0,
              "model_id": "f262c653b47d4035bea2e43cc9ac6b75"
            }
          },
          "metadata": {}
        }
      ]
    },
    {
      "cell_type": "code",
      "source": [
        "plot_tensor_grid(samples_list[0])"
      ],
      "metadata": {
        "colab": {
          "base_uri": "https://localhost:8080/",
          "height": 501
        },
        "id": "BzuVHAW_536U",
        "outputId": "339c4616-c54c-46e5-9435-fa6d2997c6d6"
      },
      "execution_count": 23,
      "outputs": [
        {
          "output_type": "display_data",
          "data": {
            "text/plain": [
              "<Figure size 1000x500 with 8 Axes>"
            ],
            "image/png": "[encoded data removed]"
          },
          "metadata": {}
        }
      ]
    }
  ]
}